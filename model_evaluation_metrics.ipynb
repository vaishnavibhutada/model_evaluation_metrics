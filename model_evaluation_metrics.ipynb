{
 "cells": [
  {
   "cell_type": "markdown",
   "id": "0818f604-9b8a-4df7-929d-eab03fea3de5",
   "metadata": {},
   "source": [
    "# Performing Regression Analysis: Computing MAE, MSE, RMSE, and R2 Score\n"
   ]
  },
  {
   "cell_type": "code",
   "execution_count": 5,
   "id": "d388a9fc-4a29-4b11-86b4-972469528350",
   "metadata": {},
   "outputs": [],
   "source": [
    "y_true = [3,-0.5,2,7]"
   ]
  },
  {
   "cell_type": "code",
   "execution_count": 6,
   "id": "c1dc2392-bbe2-4d4f-a995-66a47885f69f",
   "metadata": {},
   "outputs": [],
   "source": [
    "y_pred = [2.5, 0.0, 2, 8]"
   ]
  },
  {
   "cell_type": "code",
   "execution_count": 7,
   "id": "c672d157-76bb-4636-bacf-acc6d6e76556",
   "metadata": {},
   "outputs": [],
   "source": [
    "from sklearn.metrics import mean_absolute_error, mean_squared_error, r2_score\n",
    "import numpy as np"
   ]
  },
  {
   "cell_type": "code",
   "execution_count": 8,
   "id": "5eef30b6-8ab4-47be-a716-202f2c4e2d56",
   "metadata": {},
   "outputs": [],
   "source": [
    "MAE = mean_absolute_error(y_true, y_pred)"
   ]
  },
  {
   "cell_type": "code",
   "execution_count": 9,
   "id": "00c2843c-e836-49a7-90a9-e7e723399dca",
   "metadata": {},
   "outputs": [
    {
     "data": {
      "text/plain": [
       "0.5"
      ]
     },
     "execution_count": 9,
     "metadata": {},
     "output_type": "execute_result"
    }
   ],
   "source": [
    "MAE"
   ]
  },
  {
   "cell_type": "code",
   "execution_count": 10,
   "id": "7f55d6ff-01f9-474b-a2b8-e62e67dd5d3c",
   "metadata": {},
   "outputs": [],
   "source": [
    "MSE = mean_squared_error(y_true, y_pred)"
   ]
  },
  {
   "cell_type": "code",
   "execution_count": 11,
   "id": "f8e16ab7-37de-4ef4-89cf-a7609c10859e",
   "metadata": {},
   "outputs": [
    {
     "data": {
      "text/plain": [
       "0.375"
      ]
     },
     "execution_count": 11,
     "metadata": {},
     "output_type": "execute_result"
    }
   ],
   "source": [
    "MSE"
   ]
  },
  {
   "cell_type": "code",
   "execution_count": 12,
   "id": "28337984-1dcd-4e92-b6fa-d6d93a3f9522",
   "metadata": {},
   "outputs": [],
   "source": [
    "RMSE = np.sqrt(MSE)"
   ]
  },
  {
   "cell_type": "code",
   "execution_count": 13,
   "id": "4c73bfbe-2b37-416e-9aad-c7535bc1cc87",
   "metadata": {},
   "outputs": [
    {
     "data": {
      "text/plain": [
       "np.float64(0.6123724356957945)"
      ]
     },
     "execution_count": 13,
     "metadata": {},
     "output_type": "execute_result"
    }
   ],
   "source": [
    "RMSE"
   ]
  },
  {
   "cell_type": "code",
   "execution_count": 14,
   "id": "5b212473-c142-45d8-941a-eba6d2beba0d",
   "metadata": {},
   "outputs": [],
   "source": [
    "R2_score = r2_score(y_true, y_pred)"
   ]
  },
  {
   "cell_type": "code",
   "execution_count": 15,
   "id": "fb5ac49a-2ff8-4092-beb1-843d1423a276",
   "metadata": {},
   "outputs": [
    {
     "data": {
      "text/plain": [
       "0.9486081370449679"
      ]
     },
     "execution_count": 15,
     "metadata": {},
     "output_type": "execute_result"
    }
   ],
   "source": [
    "R2_score"
   ]
  },
  {
   "cell_type": "code",
   "execution_count": 16,
   "id": "0fe4abfc-d8a6-4b54-b97c-950be7b61b35",
   "metadata": {},
   "outputs": [
    {
     "name": "stdout",
     "output_type": "stream",
     "text": [
      "MSE: 0.375\n"
     ]
    }
   ],
   "source": [
    "MSE_for = (pow((y_true[0] - y_pred[0]), 2) + pow((y_true[1] - y_pred[1]), 2) + \n",
    "           pow((y_true[2] - y_pred[2]), 2) + pow((y_true[3] - y_pred[3]), 2)) / 4\n",
    "print(\"MSE:\", MSE_for)"
   ]
  },
  {
   "cell_type": "code",
   "execution_count": 13,
   "id": "b9c1a417-a009-4b74-b3e5-469263e01469",
   "metadata": {},
   "outputs": [],
   "source": [
    "Adj_R2_Score = 1 - R2_score"
   ]
  },
  {
   "cell_type": "code",
   "execution_count": 14,
   "id": "6124b849-178e-4ef4-88fa-2fdb24f611ef",
   "metadata": {},
   "outputs": [
    {
     "data": {
      "text/plain": [
       "0.051391862955032064"
      ]
     },
     "execution_count": 14,
     "metadata": {},
     "output_type": "execute_result"
    }
   ],
   "source": [
    "Adj_R2_Score"
   ]
  },
  {
   "cell_type": "markdown",
   "id": "3d473de5-f225-4399-959a-f8b2a540a431",
   "metadata": {},
   "source": [
    "## Plotting the graph"
   ]
  },
  {
   "cell_type": "code",
   "execution_count": 15,
   "id": "2a428f00-8189-4590-848f-1cf7edacaf5e",
   "metadata": {},
   "outputs": [],
   "source": [
    "import matplotlib.pyplot as plt"
   ]
  },
  {
   "cell_type": "code",
   "execution_count": 16,
   "id": "52b7122b-c755-444a-90fc-3e2afefaf392",
   "metadata": {},
   "outputs": [],
   "source": [
    "import pandas as pd "
   ]
  },
  {
   "cell_type": "code",
   "execution_count": 18,
   "id": "740ae59d-75d6-46ff-939b-8195ca295ce0",
   "metadata": {},
   "outputs": [],
   "source": [
    "df = pd.read_csv(\"country_dataset.csv\")"
   ]
  },
  {
   "cell_type": "code",
   "execution_count": 19,
   "id": "4f45f3e4-2eea-41f2-8764-5721017b9ae4",
   "metadata": {},
   "outputs": [],
   "source": [
    "df_new = df.iloc[:,1:3]"
   ]
  },
  {
   "cell_type": "code",
   "execution_count": 20,
   "id": "f37c7d99-e8ef-4887-9ab0-4d98fae38757",
   "metadata": {},
   "outputs": [
    {
     "data": {
      "text/plain": [
       "(34, 2)"
      ]
     },
     "execution_count": 20,
     "metadata": {},
     "output_type": "execute_result"
    }
   ],
   "source": [
    "df_new.shape"
   ]
  },
  {
   "cell_type": "code",
   "execution_count": 21,
   "id": "01ba15c8-734b-4c33-a831-ee403b7d479a",
   "metadata": {},
   "outputs": [
    {
     "data": {
      "text/plain": [
       "Text(0, 0.5, 'Salary')"
      ]
     },
     "execution_count": 21,
     "metadata": {},
     "output_type": "execute_result"
    },
    {
     "data": {
      "image/png": "[encoded data removed]",
      "text/plain": [
       "<Figure size 640x480 with 1 Axes>"
      ]
     },
     "metadata": {},
     "output_type": "display_data"
    }
   ],
   "source": [
    "plt.scatter(df_new['Age'], df_new['Salary'])\n",
    "plt.xlabel('Age')\n",
    "plt.ylabel('Salary')"
   ]
  },
  {
   "cell_type": "markdown",
   "id": "2065d05c-2288-4744-8e04-788cae7217ec",
   "metadata": {},
   "source": [
    "# Binary Classification: Evaluating Model using Accuracy, Precision, Recall, and Confusion Matrix\n"
   ]
  },
  {
   "cell_type": "code",
   "execution_count": 22,
   "id": "c7aaed77-9958-448f-8e53-8d02e5600153",
   "metadata": {},
   "outputs": [],
   "source": [
    "y_true = [0,0,0,0,0,0,0,0,0,0,1,1,1,1,1]\n",
    "y_pred = [0,0,0,0,0,0,0,0,1,1,1,1,1,1,0]"
   ]
  },
  {
   "cell_type": "code",
   "execution_count": 23,
   "id": "198d4f2d-cf38-444e-9e75-66390380493e",
   "metadata": {},
   "outputs": [],
   "source": [
    "from sklearn.metrics import confusion_matrix, accuracy_score, precision_score, recall_score"
   ]
  },
  {
   "cell_type": "code",
   "execution_count": 24,
   "id": "f21ae999-a551-4d81-9ceb-2c42ae8a51ce",
   "metadata": {},
   "outputs": [],
   "source": [
    "Acc = accuracy_score(y_true, y_pred)"
   ]
  },
  {
   "cell_type": "code",
   "execution_count": 25,
   "id": "f6d8b044-15e9-4d6b-a04f-42aba4aa839b",
   "metadata": {},
   "outputs": [
    {
     "data": {
      "text/plain": [
       "0.8"
      ]
     },
     "execution_count": 25,
     "metadata": {},
     "output_type": "execute_result"
    }
   ],
   "source": [
    "Acc"
   ]
  },
  {
   "cell_type": "code",
   "execution_count": 26,
   "id": "15111a11-b119-4702-b622-f649099b1b8a",
   "metadata": {},
   "outputs": [
    {
     "data": {
      "text/plain": [
       "0.6666666666666666"
      ]
     },
     "execution_count": 26,
     "metadata": {},
     "output_type": "execute_result"
    }
   ],
   "source": [
    "precision = precision_score(y_true, y_pred)\n",
    "precision"
   ]
  },
  {
   "cell_type": "code",
   "execution_count": 27,
   "id": "ea80b906-0678-4c7a-8eee-dff423118dec",
   "metadata": {},
   "outputs": [
    {
     "data": {
      "text/plain": [
       "0.8"
      ]
     },
     "execution_count": 27,
     "metadata": {},
     "output_type": "execute_result"
    }
   ],
   "source": [
    "recall = recall_score(y_true, y_pred)\n",
    "recall"
   ]
  },
  {
   "cell_type": "code",
   "execution_count": 28,
   "id": "f2e7b8a0-603e-4bbd-8475-431ca8feb8cf",
   "metadata": {},
   "outputs": [],
   "source": [
    "confusion_metric = confusion_matrix(y_true, y_pred)"
   ]
  },
  {
   "cell_type": "code",
   "execution_count": 29,
   "id": "8a3000dd-b17b-4e40-9ce2-1788b8af34d3",
   "metadata": {},
   "outputs": [
    {
     "data": {
      "text/plain": [
       "array([[8, 2],\n",
       "       [1, 4]])"
      ]
     },
     "execution_count": 29,
     "metadata": {},
     "output_type": "execute_result"
    }
   ],
   "source": [
    "confusion_metric"
   ]
  },
  {
   "cell_type": "code",
   "execution_count": 31,
   "id": "29e61ddb-fbf2-4beb-a0bb-06634396ce77",
   "metadata": {},
   "outputs": [],
   "source": [
    "tn, fp, fn, tp = confusion_matrix(y_true, y_pred).ravel()"
   ]
  },
  {
   "cell_type": "code",
   "execution_count": 32,
   "id": "93372e1a-b5f6-46f2-a53d-41df36c8fc8b",
   "metadata": {},
   "outputs": [
    {
     "data": {
      "text/plain": [
       "(np.int64(8), np.int64(2), np.int64(1), np.int64(4))"
      ]
     },
     "execution_count": 32,
     "metadata": {},
     "output_type": "execute_result"
    }
   ],
   "source": [
    "tn, fp, fn, tp"
   ]
  },
  {
   "cell_type": "markdown",
   "id": "065a6c80-789a-4a9c-96c5-15b94a0bcab0",
   "metadata": {},
   "source": [
    "# Multi-class Classification: Evaluating Accuracy, Precision, Recall, and Confusion Matrix\n"
   ]
  },
  {
   "cell_type": "code",
   "execution_count": 33,
   "id": "2051fe6d-77ec-45b3-84c1-27f62755ed15",
   "metadata": {},
   "outputs": [],
   "source": [
    "y_true = [1,1,1,1,2,2,2,2,3,3,3,3]\n",
    "y_pred = [2,1,1,1,1,3,2,2,1,2,3,3]"
   ]
  },
  {
   "cell_type": "code",
   "execution_count": 34,
   "id": "d3acdab0-489c-4c75-8381-9c6920af5f67",
   "metadata": {},
   "outputs": [],
   "source": [
    "Acc = accuracy_score(y_true, y_pred)"
   ]
  },
  {
   "cell_type": "code",
   "execution_count": 35,
   "id": "433f7624-040a-4d64-ad60-5ce2d83e8b0a",
   "metadata": {},
   "outputs": [
    {
     "data": {
      "text/plain": [
       "0.5833333333333334"
      ]
     },
     "execution_count": 35,
     "metadata": {},
     "output_type": "execute_result"
    }
   ],
   "source": [
    "Acc"
   ]
  },
  {
   "cell_type": "code",
   "execution_count": 36,
   "id": "752c7e57-7470-4b3f-8da9-891699b0392d",
   "metadata": {},
   "outputs": [
    {
     "data": {
      "text/plain": [
       "0.5833333333333334"
      ]
     },
     "execution_count": 36,
     "metadata": {},
     "output_type": "execute_result"
    }
   ],
   "source": [
    "precision = precision_score(y_true, y_pred, average = 'micro')\n",
    "precision"
   ]
  },
  {
   "cell_type": "code",
   "execution_count": 37,
   "id": "bcc17291-b25d-4c10-bbd4-78f17ee74d41",
   "metadata": {},
   "outputs": [
    {
     "data": {
      "text/plain": [
       "array([[3, 1, 0],\n",
       "       [1, 2, 1],\n",
       "       [1, 1, 2]])"
      ]
     },
     "execution_count": 37,
     "metadata": {},
     "output_type": "execute_result"
    }
   ],
   "source": [
    "confusion_metric = confusion_matrix(y_true, y_pred)\n",
    "confusion_metric"
   ]
  },
  {
   "cell_type": "code",
   "execution_count": 38,
   "id": "59605a4e-1083-4ddf-aa0a-15a0f9170a7e",
   "metadata": {},
   "outputs": [
    {
     "data": {
      "text/plain": [
       "0.5833333333333334"
      ]
     },
     "execution_count": 38,
     "metadata": {},
     "output_type": "execute_result"
    }
   ],
   "source": [
    "recall = recall_score(y_true, y_pred, average = 'micro')\n",
    "recall"
   ]
  },
  {
   "cell_type": "markdown",
   "id": "90beb945-3bb9-4d72-aa1c-4639190dac21",
   "metadata": {},
   "source": [
    "## Task 1 : Apply regression metric in given dataset with change in three package and plot the graph of the same"
   ]
  },
  {
   "cell_type": "code",
   "execution_count": 39,
   "id": "9ee3f981-3ca8-4fc9-af93-c49bb2ec482e",
   "metadata": {},
   "outputs": [],
   "source": [
    "y_true = [3.26, 1.98, 3.25, 3.67, 3.57]\n",
    "y_pred = [3.26, 2.03, 3, 3.8, 3.57]"
   ]
  },
  {
   "cell_type": "code",
   "execution_count": 40,
   "id": "eb6ffaed-1c73-4669-93a4-14bc8063503c",
   "metadata": {},
   "outputs": [],
   "source": [
    "from sklearn.metrics import mean_absolute_error, mean_squared_error, r2_score\n",
    "import numpy as np"
   ]
  },
  {
   "cell_type": "code",
   "execution_count": 41,
   "id": "a2048f1d-feb8-42dd-b020-d412d424073b",
   "metadata": {},
   "outputs": [
    {
     "data": {
      "text/plain": [
       "0.08599999999999994"
      ]
     },
     "execution_count": 41,
     "metadata": {},
     "output_type": "execute_result"
    }
   ],
   "source": [
    "MAE = mean_absolute_error(y_true, y_pred)\n",
    "MAE"
   ]
  },
  {
   "cell_type": "code",
   "execution_count": 42,
   "id": "2a36f80c-5f97-4f49-9051-6c4528b95d0b",
   "metadata": {},
   "outputs": [
    {
     "data": {
      "text/plain": [
       "0.016379999999999992"
      ]
     },
     "execution_count": 42,
     "metadata": {},
     "output_type": "execute_result"
    }
   ],
   "source": [
    "MSE = mean_squared_error(y_true, y_pred)\n",
    "MSE"
   ]
  },
  {
   "cell_type": "code",
   "execution_count": 43,
   "id": "f9e7a7fe-cd44-40c5-96e6-384fb4738fea",
   "metadata": {},
   "outputs": [
    {
     "data": {
      "text/plain": [
       "np.float64(0.12798437404620921)"
      ]
     },
     "execution_count": 43,
     "metadata": {},
     "output_type": "execute_result"
    }
   ],
   "source": [
    "RMSE = np.sqrt(MSE)\n",
    "RMSE"
   ]
  },
  {
   "cell_type": "code",
   "execution_count": 44,
   "id": "4df8c9df-a087-4531-a795-f3aa8b53c285",
   "metadata": {},
   "outputs": [
    {
     "data": {
      "text/plain": [
       "0.9554339072328756"
      ]
     },
     "execution_count": 44,
     "metadata": {},
     "output_type": "execute_result"
    }
   ],
   "source": [
    "R2_score = r2_score(y_true, y_pred)\n",
    "R2_score"
   ]
  },
  {
   "cell_type": "markdown",
   "id": "a402bead-ead1-46a0-ac1f-bda23e3fefe3",
   "metadata": {},
   "source": [
    "## Graph Plotting for cgpa_package dataset"
   ]
  },
  {
   "cell_type": "code",
   "execution_count": 45,
   "id": "89b0e4e2-17f2-4203-8f31-d8f7bab545fa",
   "metadata": {},
   "outputs": [],
   "source": [
    "import matplotlib.pyplot as plt\n",
    "import pandas as pd"
   ]
  },
  {
   "cell_type": "code",
   "execution_count": 47,
   "id": "a21e6d1f-0953-4df1-9154-50a9f2f4a607",
   "metadata": {},
   "outputs": [
    {
     "data": {
      "text/html": [
       "<div>\n",
       "<style scoped>\n",
       "    .dataframe tbody tr th:only-of-type {\n",
       "        vertical-align: middle;\n",
       "    }\n",
       "\n",
       "    .dataframe tbody tr th {\n",
       "        vertical-align: top;\n",
       "    }\n",
       "\n",
       "    .dataframe thead th {\n",
       "        text-align: right;\n",
       "    }\n",
       "</style>\n",
       "<table border=\"1\" class=\"dataframe\">\n",
       "  <thead>\n",
       "    <tr style=\"text-align: right;\">\n",
       "      <th></th>\n",
       "      <th>cgpa</th>\n",
       "      <th>package</th>\n",
       "    </tr>\n",
       "  </thead>\n",
       "  <tbody>\n",
       "    <tr>\n",
       "      <th>0</th>\n",
       "      <td>6.89</td>\n",
       "      <td>3.26</td>\n",
       "    </tr>\n",
       "    <tr>\n",
       "      <th>1</th>\n",
       "      <td>5.12</td>\n",
       "      <td>1.96</td>\n",
       "    </tr>\n",
       "    <tr>\n",
       "      <th>2</th>\n",
       "      <td>7.82</td>\n",
       "      <td>3.25</td>\n",
       "    </tr>\n",
       "    <tr>\n",
       "      <th>3</th>\n",
       "      <td>7.42</td>\n",
       "      <td>3.67</td>\n",
       "    </tr>\n",
       "    <tr>\n",
       "      <th>4</th>\n",
       "      <td>6.94</td>\n",
       "      <td>3.57</td>\n",
       "    </tr>\n",
       "  </tbody>\n",
       "</table>\n",
       "</div>"
      ],
      "text/plain": [
       "   cgpa  package\n",
       "0  6.89     3.26\n",
       "1  5.12     1.96\n",
       "2  7.82     3.25\n",
       "3  7.42     3.67\n",
       "4  6.94     3.57"
      ]
     },
     "execution_count": 47,
     "metadata": {},
     "output_type": "execute_result"
    }
   ],
   "source": [
    "df = pd.read_csv('cgpa_dataset.csv')\n",
    "df"
   ]
  },
  {
   "cell_type": "code",
   "execution_count": 48,
   "id": "407fe8c7-d896-477e-ada7-347f3f3e50ab",
   "metadata": {},
   "outputs": [
    {
     "data": {
      "text/plain": [
       "(5, 2)"
      ]
     },
     "execution_count": 48,
     "metadata": {},
     "output_type": "execute_result"
    }
   ],
   "source": [
    "df_new = df.iloc[:,:]\n",
    "df.shape"
   ]
  },
  {
   "cell_type": "code",
   "execution_count": 49,
   "id": "32db5e31-274e-4652-85ce-428ec5571f6e",
   "metadata": {},
   "outputs": [
    {
     "name": "stdout",
     "output_type": "stream",
     "text": [
      "Index(['cgpa', 'package'], dtype='object')\n"
     ]
    }
   ],
   "source": [
    "print(df_new.columns)"
   ]
  },
  {
   "cell_type": "code",
   "execution_count": 50,
   "id": "7796b986-f8d6-4772-a80d-9ad7b4fd6a91",
   "metadata": {},
   "outputs": [],
   "source": [
    "df_new.columns = df_new.columns.str.strip()  # Remove spaces"
   ]
  },
  {
   "cell_type": "code",
   "execution_count": 51,
   "id": "c3007819-820b-4099-9562-9133759f32af",
   "metadata": {},
   "outputs": [
    {
     "data": {
      "text/plain": [
       "Text(0, 0.5, 'package')"
      ]
     },
     "execution_count": 51,
     "metadata": {},
     "output_type": "execute_result"
    },
    {
     "data": {
      "image/png": "[encoded data removed]",
      "text/plain": [
       "<Figure size 640x480 with 1 Axes>"
      ]
     },
     "metadata": {},
     "output_type": "display_data"
    }
   ],
   "source": [
    "plt.scatter(df_new['cgpa'], df_new['package'])\n",
    "plt.xlabel('cgpa')\n",
    "plt.ylabel('package')"
   ]
  },
  {
   "cell_type": "markdown",
   "id": "17197018-50b6-4c2b-931f-d533fc7700bd",
   "metadata": {},
   "source": [
    "## Task 2 : Use country_dataset, take the 20 records from purchase attribute, change 5 value to prepare y_pred and apply the classification metrics on the same."
   ]
  },
  {
   "cell_type": "code",
   "execution_count": 53,
   "id": "45d73c59-70a4-475f-bd89-769fe51d682e",
   "metadata": {},
   "outputs": [],
   "source": [
    "df = pd.read_csv('country_dataset.csv')"
   ]
  },
  {
   "cell_type": "code",
   "execution_count": 54,
   "id": "c096db04-ed2f-460e-84d9-2294e9c72e1f",
   "metadata": {},
   "outputs": [],
   "source": [
    "y = df['Purchase']"
   ]
  },
  {
   "cell_type": "code",
   "execution_count": 55,
   "id": "8b43aa3d-f558-4669-b32b-160f01115209",
   "metadata": {},
   "outputs": [],
   "source": [
    "y = df.iloc[0:20, -1]"
   ]
  },
  {
   "cell_type": "code",
   "execution_count": 56,
   "id": "29611edc-a759-4d69-8e0a-38aa1046d55a",
   "metadata": {},
   "outputs": [
    {
     "data": {
      "text/plain": [
       "(20,)"
      ]
     },
     "execution_count": 56,
     "metadata": {},
     "output_type": "execute_result"
    }
   ],
   "source": [
    "y.shape"
   ]
  },
  {
   "cell_type": "code",
   "execution_count": 57,
   "id": "61fcd351-6f39-4982-884a-7eeb882a7fd1",
   "metadata": {},
   "outputs": [
    {
     "data": {
      "text/plain": [
       "(20, 1)"
      ]
     },
     "execution_count": 57,
     "metadata": {},
     "output_type": "execute_result"
    }
   ],
   "source": [
    "y_true = y.values.reshape(20,1)\n",
    "y_true.shape"
   ]
  },
  {
   "cell_type": "code",
   "execution_count": 58,
   "id": "0cbb3025-5b74-476c-bd58-e40351ea67a9",
   "metadata": {},
   "outputs": [
    {
     "data": {
      "text/plain": [
       "array(['No', 'Yes', 'No', 'No', 'Yes', 'No', 'No', 'Yes', 'No', 'Yes',\n",
       "       'No', 'Yes', 'Yes', 'Yes', 'No', 'Yes', 'Yes', 'Yes', 'No', 'Yes'],\n",
       "      dtype=object)"
      ]
     },
     "execution_count": 58,
     "metadata": {},
     "output_type": "execute_result"
    }
   ],
   "source": [
    "y_true.ravel()"
   ]
  },
  {
   "cell_type": "code",
   "execution_count": 59,
   "id": "5b007c19-edca-43a8-8064-aa08ed06784b",
   "metadata": {},
   "outputs": [],
   "source": [
    "y_true = ['No', 'Yes', 'No', 'No', 'Yes', 'No', 'No', 'Yes', 'No', 'Yes','No', 'Yes', 'Yes', 'Yes', 'No', 'Yes', 'Yes', 'Yes', 'No', 'Yes']\n",
    "y_pred = ['No', 'Yes', 'Yes', 'No', 'No', 'No', 'Yes', 'Yes', 'No', 'Yes', 'No', 'Yes', 'Yes', 'Yes', 'No', 'Yes', 'Yes', 'Yes', 'Yes', 'No']"
   ]
  },
  {
   "cell_type": "code",
   "execution_count": 60,
   "id": "ac1ca3e9-7580-4260-991f-551856e8539f",
   "metadata": {},
   "outputs": [],
   "source": [
    "from sklearn.metrics import confusion_matrix, accuracy_score, precision_score, recall_score"
   ]
  },
  {
   "cell_type": "code",
   "execution_count": 61,
   "id": "0a916396-318f-4250-9b7c-c380eea86ecc",
   "metadata": {},
   "outputs": [
    {
     "data": {
      "text/plain": [
       "0.75"
      ]
     },
     "execution_count": 61,
     "metadata": {},
     "output_type": "execute_result"
    }
   ],
   "source": [
    "Acc = accuracy_score(y_true, y_pred)\n",
    "Acc"
   ]
  },
  {
   "cell_type": "markdown",
   "id": "f067f1b8-29a1-472f-a846-fdd41ec20a20",
   "metadata": {},
   "source": [
    "# Converting categorical data to numeric for classification model evaluation\n"
   ]
  },
  {
   "cell_type": "code",
   "execution_count": 62,
   "id": "2cb56ecc-cc07-486a-b502-1370d4ff905f",
   "metadata": {},
   "outputs": [],
   "source": [
    "y_true = pd.Series(y_true)  # Convert lists to Pandas Series\n",
    "y_pred = pd.Series(y_pred)"
   ]
  },
  {
   "cell_type": "code",
   "execution_count": 63,
   "id": "dc41611c-d28c-425b-8f9b-0e1ec44ddc3d",
   "metadata": {},
   "outputs": [],
   "source": [
    "y_true = y_true.map({'Yes': 1, 'No': 0})  # Apply map() function to convert Yes → 1 and No → 0\n",
    "y_pred = y_pred.map({'Yes': 1, 'No': 0})"
   ]
  },
  {
   "cell_type": "code",
   "execution_count": 64,
   "id": "6d7da10d-81e3-4aee-89ee-babc468189d2",
   "metadata": {},
   "outputs": [
    {
     "data": {
      "text/plain": [
       "0.75"
      ]
     },
     "execution_count": 64,
     "metadata": {},
     "output_type": "execute_result"
    }
   ],
   "source": [
    "precision = precision_score(y_true, y_pred)  \n",
    "precision"
   ]
  },
  {
   "cell_type": "code",
   "execution_count": 65,
   "id": "d0a170cd-cc37-4b71-b790-d6166142b793",
   "metadata": {},
   "outputs": [
    {
     "data": {
      "text/plain": [
       "0.8181818181818182"
      ]
     },
     "execution_count": 65,
     "metadata": {},
     "output_type": "execute_result"
    }
   ],
   "source": [
    "recall = recall_score(y_true, y_pred)\n",
    "recall"
   ]
  },
  {
   "cell_type": "code",
   "execution_count": 66,
   "id": "d4a8f387-ada2-418f-b3f1-7afae9aba99b",
   "metadata": {},
   "outputs": [
    {
     "data": {
      "text/plain": [
       "array([[6, 3],\n",
       "       [2, 9]])"
      ]
     },
     "execution_count": 66,
     "metadata": {},
     "output_type": "execute_result"
    }
   ],
   "source": [
    "confusion_metric = confusion_matrix(y_true, y_pred)\n",
    "confusion_metric"
   ]
  },
  {
   "cell_type": "code",
   "execution_count": 67,
   "id": "3a3ce8dc-918d-4b6d-9e41-32145de38c73",
   "metadata": {},
   "outputs": [
    {
     "data": {
      "text/plain": [
       "(np.int64(6), np.int64(3), np.int64(2), np.int64(9))"
      ]
     },
     "execution_count": 67,
     "metadata": {},
     "output_type": "execute_result"
    }
   ],
   "source": [
    "tn, fp, fn, tp = confusion_metric.ravel()\n",
    "tn, fp, fn, tp"
   ]
  }
 ],
 "metadata": {
  "kernelspec": {
   "display_name": "Python 3 (ipykernel)",
   "language": "python",
   "name": "python3"
  },
  "language_info": {
   "codemirror_mode": {
    "name": "ipython",
    "version": 3
   },
   "file_extension": ".py",
   "mimetype": "text/x-python",
   "name": "python",
   "nbconvert_exporter": "python",
   "pygments_lexer": "ipython3",
   "version": "3.13.2"
  }
 },
 "nbformat": 4,
 "nbformat_minor": 5
}
